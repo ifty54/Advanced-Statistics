{
  "nbformat": 4,
  "nbformat_minor": 0,
  "metadata": {
    "colab": {
      "provenance": []
    },
    "kernelspec": {
      "name": "python3",
      "display_name": "Python 3"
    },
    "language_info": {
      "name": "python"
    }
  },
  "cells": [
    {
      "cell_type": "markdown",
      "source": [
        "# T Test For Hypothesis Testing"
      ],
      "metadata": {
        "id": "y3jijNUKmBAa"
      }
    },
    {
      "cell_type": "code",
      "source": [
        "pip install scipy"
      ],
      "metadata": {
        "colab": {
          "base_uri": "https://localhost:8080/"
        },
        "id": "EBTdy-NhkrPd",
        "outputId": "0c8c7674-6f28-4ed3-8067-fb3c60bf759b"
      },
      "execution_count": 11,
      "outputs": [
        {
          "output_type": "stream",
          "name": "stdout",
          "text": [
            "Requirement already satisfied: scipy in /usr/local/lib/python3.10/dist-packages (1.10.1)\n",
            "Requirement already satisfied: numpy<1.27.0,>=1.19.5 in /usr/local/lib/python3.10/dist-packages (from scipy) (1.23.5)\n"
          ]
        }
      ]
    },
    {
      "cell_type": "markdown",
      "source": [
        "## Installing Required Libraries"
      ],
      "metadata": {
        "id": "fdh0ppUImGjY"
      }
    },
    {
      "cell_type": "code",
      "source": [
        "import numpy as np\n",
        "from scipy import stats\n",
        "import matplotlib.pyplot as plt"
      ],
      "metadata": {
        "id": "6Qu1Q1BzktWG"
      },
      "execution_count": 12,
      "outputs": []
    },
    {
      "cell_type": "markdown",
      "source": [
        "## Generate random weights for two groups of fruits"
      ],
      "metadata": {
        "id": "sOQD4TLMmD93"
      }
    },
    {
      "cell_type": "code",
      "source": [
        "np.random.seed(42)\n",
        "group1_weights = np.random.normal(150, 10, size=50)  # Mean = 150, Std Dev = 10\n",
        "group2_weights = np.random.normal(140, 10, size=50)  # Mean = 140, Std Dev = 10"
      ],
      "metadata": {
        "id": "8dqCKHG_ktde"
      },
      "execution_count": 13,
      "outputs": []
    },
    {
      "cell_type": "markdown",
      "source": [
        "## Perform two-sample T-test"
      ],
      "metadata": {
        "id": "Xdkq8RsumLy6"
      }
    },
    {
      "cell_type": "code",
      "source": [
        "t_statistic, p_value = stats.ttest_ind(group1_weights, group2_weights)"
      ],
      "metadata": {
        "id": "2ksPiu7gktkO"
      },
      "execution_count": 14,
      "outputs": []
    },
    {
      "cell_type": "markdown",
      "source": [
        "## Setting significance level"
      ],
      "metadata": {
        "id": "V0c6nAjumOLq"
      }
    },
    {
      "cell_type": "code",
      "source": [
        "alpha = 0.05"
      ],
      "metadata": {
        "id": "xJMQqWxKlXeP"
      },
      "execution_count": 15,
      "outputs": []
    },
    {
      "cell_type": "markdown",
      "source": [
        "# Decision on Hypothesis Testing"
      ],
      "metadata": {
        "id": "M3-oAVgDmWGX"
      }
    },
    {
      "cell_type": "code",
      "source": [
        "print(f\"T-statistic: {t_statistic}\")\n",
        "print(f\"P-value: {p_value}\")"
      ],
      "metadata": {
        "colab": {
          "base_uri": "https://localhost:8080/"
        },
        "id": "czz7Htejlbsf",
        "outputId": "a5247a73-27fe-4296-c62f-c8cf0c4a9c57"
      },
      "execution_count": 16,
      "outputs": [
        {
          "output_type": "stream",
          "name": "stdout",
          "text": [
            "T-statistic: 4.183299337038293\n",
            "P-value: 6.264785231234246e-05\n"
          ]
        }
      ]
    },
    {
      "cell_type": "code",
      "execution_count": 17,
      "metadata": {
        "colab": {
          "base_uri": "https://localhost:8080/"
        },
        "id": "20zqX3aqkp9u",
        "outputId": "8db59e49-ae17-4ae3-b8c5-9a8874bbaf66"
      },
      "outputs": [
        {
          "output_type": "stream",
          "name": "stdout",
          "text": [
            "Reject the null hypothesis: There is a significant difference in average weights.\n"
          ]
        }
      ],
      "source": [
        "if p_value < alpha:\n",
        "    print(\"Reject the null hypothesis: There is a significant difference in average weights.\")\n",
        "else:\n",
        "    print(\"Fail to reject the null hypothesis: There is no significant difference in average weights.\")\n"
      ]
    },
    {
      "cell_type": "markdown",
      "source": [
        "## Visualizing the data"
      ],
      "metadata": {
        "id": "IrelXEbpmSWf"
      }
    },
    {
      "cell_type": "code",
      "source": [
        "plt.boxplot([group1_weights, group2_weights], labels=['Group 1', 'Group 2'])\n",
        "plt.title(\"Box Plot of Fruits Weights\")\n",
        "plt.ylabel(\"Weight\")\n",
        "plt.show()"
      ],
      "metadata": {
        "colab": {
          "base_uri": "https://localhost:8080/",
          "height": 452
        },
        "id": "19uO_dFFl1Kg",
        "outputId": "71faff7d-b0a6-4438-b596-c538284bd51e"
      },
      "execution_count": 18,
      "outputs": [
        {
          "output_type": "display_data",
          "data": {
            "text/plain": [
              "<Figure size 640x480 with 1 Axes>"
            ],
            "image/png": "[encoded data removed]"
          },
          "metadata": {}
        }
      ]
    }
  ]
}