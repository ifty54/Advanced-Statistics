{
  "nbformat": 4,
  "nbformat_minor": 0,
  "metadata": {
    "colab": {
      "provenance": []
    },
    "kernelspec": {
      "name": "python3",
      "display_name": "Python 3"
    },
    "language_info": {
      "name": "python"
    }
  },
  "cells": [
    {
      "cell_type": "markdown",
      "source": [
        "## Choose between Null and Alternate Hypothesis"
      ],
      "metadata": {
        "id": "dbopq3Nkia51"
      }
    },
    {
      "cell_type": "code",
      "source": [
        "import matplotlib.pyplot as plt\n",
        "import numpy as np\n",
        "from scipy import stats\n",
        "import math"
      ],
      "metadata": {
        "id": "TRL4zikuifgG"
      },
      "execution_count": 1,
      "outputs": []
    },
    {
      "cell_type": "markdown",
      "source": [
        "### Coin flip scenario: 1\n",
        "Null: My flipping prob is 0.5\n",
        "Alternate: prob is greater than 0.5"
      ],
      "metadata": {
        "id": "lpIo2pX4jOVM"
      }
    },
    {
      "cell_type": "markdown",
      "source": [
        "**Measuring Null if it's acceptable or rejectable**"
      ],
      "metadata": {
        "id": "l1Q5wwNMjeeL"
      }
    },
    {
      "cell_type": "code",
      "source": [
        "from scipy.stats import binom\n",
        "prob = 1 - binom.cdf(55,100,0.5)"
      ],
      "metadata": {
        "id": "_4KRolGhiwNw"
      },
      "execution_count": 2,
      "outputs": []
    },
    {
      "cell_type": "code",
      "source": [
        "print(\"p=\"+str(round(prob*100,1))+'%')"
      ],
      "metadata": {
        "colab": {
          "base_uri": "https://localhost:8080/"
        },
        "id": "G3mYPX0yjCFd",
        "outputId": "247abf84-5394-4529-f75d-1820d44ee76e"
      },
      "execution_count": 4,
      "outputs": [
        {
          "output_type": "stream",
          "name": "stdout",
          "text": [
            "p=13.6%\n"
          ]
        }
      ]
    },
    {
      "cell_type": "markdown",
      "source": [
        "By theory, if p < 0.05, we can't reject Null.\n",
        "\n",
        "So here, the Null hypothesis is `True`."
      ],
      "metadata": {
        "id": "goUjgCNOjlWm"
      }
    },
    {
      "cell_type": "markdown",
      "source": [
        "### Jargon:\n",
        "**Significance level** = p = 0.05\n",
        "\n",
        "**Confidence level** = cutoff = 95% = 0.95"
      ],
      "metadata": {
        "id": "ZteHQfHXrYiL"
      }
    },
    {
      "cell_type": "markdown",
      "source": [
        "### Coin flip scenario: 2\n",
        "Find: Number of flips to retain confidence level\n",
        "\n",
        "Cutoff: 95%\n",
        "\n",
        "Null: If more than 50% flips the same, we're accepting it\n",
        "\n",
        "Alternate: Else accept it"
      ],
      "metadata": {
        "id": "ZXLi5wb0r2ay"
      }
    },
    {
      "cell_type": "code",
      "source": [
        "from scipy.stats import binom\n",
        "print(\"flip_count:\"+str(binom.ppf(0.95,100,0.5)+1))"
      ],
      "metadata": {
        "colab": {
          "base_uri": "https://localhost:8080/"
        },
        "id": "29YhXrobpQju",
        "outputId": "b0f08f9a-2835-43e8-b243-88df3325b921"
      },
      "execution_count": 12,
      "outputs": [
        {
          "output_type": "stream",
          "name": "stdout",
          "text": [
            "flip_count:59.0\n"
          ]
        }
      ]
    },
    {
      "cell_type": "markdown",
      "source": [
        "So, we accept Null as `True`"
      ],
      "metadata": {
        "id": "p6o5uhByucvZ"
      }
    }
  ]
}