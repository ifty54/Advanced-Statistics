{
  "nbformat": 4,
  "nbformat_minor": 0,
  "metadata": {
    "colab": {
      "provenance": []
    },
    "kernelspec": {
      "name": "python3",
      "display_name": "Python 3"
    },
    "language_info": {
      "name": "python"
    }
  },
  "cells": [
    {
      "cell_type": "markdown",
      "source": [
        "# Chi-Sqaure Test for Hypothesis Testing\n",
        "\n",
        "## Non Parametric Testing"
      ],
      "metadata": {
        "id": "6qlrCmQNb-2C"
      }
    },
    {
      "cell_type": "code",
      "source": [
        "import numpy as np\n",
        "from scipy import stats\n",
        "import pandas as pd"
      ],
      "metadata": {
        "id": "Msm-wBgnbgkx"
      },
      "execution_count": 1,
      "outputs": []
    },
    {
      "cell_type": "code",
      "source": [
        "data = {\n",
        "    'Satisfied': [120, 80],\n",
        "    'Not Satisfied': [100, 60]\n",
        "}\n",
        "contingency_table = pd.DataFrame(data, index=['Male', 'Female'])"
      ],
      "metadata": {
        "id": "gbOp8YWvbgds"
      },
      "execution_count": 2,
      "outputs": []
    },
    {
      "cell_type": "code",
      "source": [
        "# Set significance level\n",
        "alpha = 0.05"
      ],
      "metadata": {
        "id": "nmBDJoIjbrng"
      },
      "execution_count": 3,
      "outputs": []
    },
    {
      "cell_type": "markdown",
      "source": [
        "## Performing Chi-Square Test"
      ],
      "metadata": {
        "id": "bH-6LKKIbuYx"
      }
    },
    {
      "cell_type": "code",
      "execution_count": 4,
      "metadata": {
        "id": "S4_FV3OGbc2I"
      },
      "outputs": [],
      "source": [
        "# Perform Chi-Square test\n",
        "chi2_stat, p_value, dof, expected = stats.chi2_contingency(contingency_table) #dof=degrees of freedom"
      ]
    },
    {
      "cell_type": "code",
      "source": [
        "print(\"Chi-Square statistic:\", chi2_stat)\n",
        "print(\"P-value:\", p_value)\n",
        "print(\"Degrees of freedom:\", dof)\n",
        "print(\"Expected frequencies:\\n\", expected)"
      ],
      "metadata": {
        "colab": {
          "base_uri": "https://localhost:8080/"
        },
        "id": "BHHr1KvAb3AI",
        "outputId": "a992c367-2cef-4181-ed54-d3d78c0b870a"
      },
      "execution_count": 5,
      "outputs": [
        {
          "output_type": "stream",
          "name": "stdout",
          "text": [
            "Chi-Square statistic: 0.14040584415584478\n",
            "P-value: 0.7078778812151587\n",
            "Degrees of freedom: 1\n",
            "Expected frequencies:\n",
            " [[122.22222222  97.77777778]\n",
            " [ 77.77777778  62.22222222]]\n"
          ]
        }
      ]
    },
    {
      "cell_type": "markdown",
      "source": [
        "# Result"
      ],
      "metadata": {
        "id": "IDPPYLwKb5H4"
      }
    },
    {
      "cell_type": "code",
      "source": [
        "if p_value < alpha:\n",
        "    print(\"Reject the null hypothesis: There is a significant association between job satisfaction and gender.\")\n",
        "else:\n",
        "    print(\"Fail to reject the null hypothesis: There is no significant association between job satisfaction and gender.\")"
      ],
      "metadata": {
        "colab": {
          "base_uri": "https://localhost:8080/"
        },
        "id": "JtIk9voSb7g4",
        "outputId": "5b88bd9b-80c0-4b0b-e2b4-5bf713ce10c9"
      },
      "execution_count": 6,
      "outputs": [
        {
          "output_type": "stream",
          "name": "stdout",
          "text": [
            "Fail to reject the null hypothesis: There is no significant association between job satisfaction and gender.\n"
          ]
        }
      ]
    }
  ]
}