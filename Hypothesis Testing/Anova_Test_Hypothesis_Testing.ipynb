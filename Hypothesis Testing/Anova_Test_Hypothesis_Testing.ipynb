{
  "nbformat": 4,
  "nbformat_minor": 0,
  "metadata": {
    "colab": {
      "provenance": []
    },
    "kernelspec": {
      "name": "python3",
      "display_name": "Python 3"
    },
    "language_info": {
      "name": "python"
    }
  },
  "cells": [
    {
      "cell_type": "markdown",
      "source": [
        "# Anova aka F-Test for Hypothesis Testing"
      ],
      "metadata": {
        "id": "p4LcbYRjtXd4"
      }
    },
    {
      "cell_type": "markdown",
      "source": [
        "## **Null**: There is no significant difference in average scores due to three given teaching methods\n",
        "## **Alternative**: There is a significant difference in average scores"
      ],
      "metadata": {
        "id": "c8TRcGn3teIM"
      }
    },
    {
      "cell_type": "markdown",
      "source": [
        "## Installing Required Libraries"
      ],
      "metadata": {
        "id": "Y4P_16YisomA"
      }
    },
    {
      "cell_type": "code",
      "source": [
        "import numpy as np\n",
        "from scipy import stats\n",
        "import matplotlib.pyplot as plt"
      ],
      "metadata": {
        "id": "gtqCfpLvslHl"
      },
      "execution_count": 4,
      "outputs": []
    },
    {
      "cell_type": "markdown",
      "source": [
        "## Generate random exam scores for three teaching methods"
      ],
      "metadata": {
        "id": "F-mwLjgJsyfe"
      }
    },
    {
      "cell_type": "code",
      "source": [
        "np.random.seed(42)\n",
        "method1_scores = np.random.normal(75, 10, size=20)  # Method 1\n",
        "method2_scores = np.random.normal(70, 10, size=20)  # Method 2\n",
        "method3_scores = np.random.normal(85, 10, size=20)  # Method 3"
      ],
      "metadata": {
        "id": "QnxFDZTcsnaO"
      },
      "execution_count": 5,
      "outputs": []
    },
    {
      "cell_type": "markdown",
      "source": [
        "# Perform ANOVA test"
      ],
      "metadata": {
        "id": "cSbNzJ2us2y9"
      }
    },
    {
      "cell_type": "code",
      "source": [
        "f_statistic, p_value = stats.f_oneway(method1_scores, method2_scores, method3_scores)"
      ],
      "metadata": {
        "id": "2XLkTpUaslDT"
      },
      "execution_count": 6,
      "outputs": []
    },
    {
      "cell_type": "markdown",
      "source": [
        "## Set significance level"
      ],
      "metadata": {
        "id": "nPNNqoBNs56_"
      }
    },
    {
      "cell_type": "code",
      "source": [
        "alpha = 0.05"
      ],
      "metadata": {
        "id": "qQ5yMevzslA_"
      },
      "execution_count": 7,
      "outputs": []
    },
    {
      "cell_type": "code",
      "source": [
        "print(\"F-statistic: {f_statistic}\")\n",
        "print(\"P-value: {p_value}\")"
      ],
      "metadata": {
        "colab": {
          "base_uri": "https://localhost:8080/"
        },
        "id": "-WNoiVpPsk-m",
        "outputId": "154c9c72-1ee8-4b77-a94f-e0ec2ab82278"
      },
      "execution_count": 8,
      "outputs": [
        {
          "output_type": "stream",
          "name": "stdout",
          "text": [
            "F-statistic: {f_statistic}\n",
            "P-value: {p_value}\n"
          ]
        }
      ]
    },
    {
      "cell_type": "markdown",
      "source": [
        "# Decision"
      ],
      "metadata": {
        "id": "Q2WRP3g1tUQU"
      }
    },
    {
      "cell_type": "code",
      "source": [
        "if p_value < alpha:\n",
        "    print(\"Reject the null hypothesis: There is a significant difference in average scores.\")\n",
        "else:\n",
        "    print(\"Fail to reject the null hypothesis: There is no significant difference in average scores.\")"
      ],
      "metadata": {
        "colab": {
          "base_uri": "https://localhost:8080/"
        },
        "id": "wVMtwVicsk7s",
        "outputId": "4bc3eca6-2cc1-4907-de58-18ec071559da"
      },
      "execution_count": 9,
      "outputs": [
        {
          "output_type": "stream",
          "name": "stdout",
          "text": [
            "Reject the null hypothesis: There is a significant difference in average scores.\n"
          ]
        }
      ]
    },
    {
      "cell_type": "markdown",
      "source": [
        "## Visualization"
      ],
      "metadata": {
        "id": "EbgNroyNtNA9"
      }
    },
    {
      "cell_type": "code",
      "execution_count": 10,
      "metadata": {
        "colab": {
          "base_uri": "https://localhost:8080/",
          "height": 452
        },
        "id": "Vq6nMhj7sihD",
        "outputId": "03a94f0d-fa19-48f5-ab3d-e6b3150e9e90"
      },
      "outputs": [
        {
          "output_type": "display_data",
          "data": {
            "text/plain": [
              "<Figure size 640x480 with 1 Axes>"
            ],
            "image/png": "[encoded data removed]"
          },
          "metadata": {}
        }
      ],
      "source": [
        "plt.boxplot([method1_scores, method2_scores, method3_scores], labels=['Method 1', 'Method 2', 'Method 3'])\n",
        "plt.title(\"Box Plot of Exam Scores by Teaching Method\")\n",
        "plt.ylabel(\"Score\")\n",
        "plt.show()"
      ]
    }
  ]
}