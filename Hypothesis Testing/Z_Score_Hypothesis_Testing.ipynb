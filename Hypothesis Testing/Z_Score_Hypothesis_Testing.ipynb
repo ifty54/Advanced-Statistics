{
  "nbformat": 4,
  "nbformat_minor": 0,
  "metadata": {
    "colab": {
      "provenance": []
    },
    "kernelspec": {
      "name": "python3",
      "display_name": "Python 3"
    },
    "language_info": {
      "name": "python"
    }
  },
  "cells": [
    {
      "cell_type": "markdown",
      "source": [
        "# Hypothesis Testing: **Z-Score**\n",
        "### **Problem**: A group of patients is given two different drugs.\n",
        "### **Null**: There is no significant differences between the two treatments.\n",
        "### **Alternate**: There is a significant difference between the two treatments."
      ],
      "metadata": {
        "id": "9LhFzNpiORpF"
      }
    },
    {
      "cell_type": "code",
      "source": [
        "import numpy as np\n",
        "import scipy.stats as stats"
      ],
      "metadata": {
        "id": "sWFaf0FKO-eM"
      },
      "execution_count": 1,
      "outputs": []
    },
    {
      "cell_type": "code",
      "source": [
        "# Number of patients in each group\n",
        "n_new_drug = 100\n",
        "n_current_treatment = 120"
      ],
      "metadata": {
        "id": "9zmr_R3KO5EF"
      },
      "execution_count": 2,
      "outputs": []
    },
    {
      "cell_type": "code",
      "source": [
        "# Number of patients who responded positively in each group\n",
        "new_drug_response = 75\n",
        "current_treatment_response = 85"
      ],
      "metadata": {
        "id": "3DEGEhC0O7I0"
      },
      "execution_count": 3,
      "outputs": []
    },
    {
      "cell_type": "code",
      "source": [
        "# Calculate the sample proportions\n",
        "p_new_drug = new_drug_response / n_new_drug\n",
        "p_current_treatment = current_treatment_response / n_current_treatment"
      ],
      "metadata": {
        "id": "ASAKkRsGPRet"
      },
      "execution_count": 4,
      "outputs": []
    },
    {
      "cell_type": "code",
      "source": [
        "# Assuming 5% significance level/ 95% confidence level\n",
        "alpha = 0.05"
      ],
      "metadata": {
        "id": "pxgCe061QSo0"
      },
      "execution_count": 5,
      "outputs": []
    },
    {
      "cell_type": "code",
      "source": [
        "# Calculate the critical value for a two-tailed test\n",
        "z_critical = stats.norm.ppf(1 - alpha / 2)"
      ],
      "metadata": {
        "id": "OqN7TSrkQSaF"
      },
      "execution_count": 6,
      "outputs": []
    },
    {
      "cell_type": "code",
      "execution_count": 7,
      "metadata": {
        "id": "Fpfsd-A6moaY"
      },
      "outputs": [],
      "source": [
        "# Calculate the standard error of the difference between proportions\n",
        "standard_error_difference = np.sqrt(p_new_drug * (1 - p_new_drug) / n_new_drug + p_current_treatment * (1 - p_current_treatment) / n_current_treatment)"
      ]
    },
    {
      "cell_type": "code",
      "source": [
        "# Calculate the test statistic\n",
        "z_score = (p_new_drug - p_current_treatment) / standard_error_difference"
      ],
      "metadata": {
        "id": "uboxvrwKQWEV"
      },
      "execution_count": 8,
      "outputs": []
    },
    {
      "cell_type": "code",
      "source": [
        "# Calculate the p-value for the test statistic\n",
        "p_value = 2 * (1 - stats.norm.cdf(np.abs(z_score)))\n",
        "\n",
        "# Compare p-value with significance level to make a decision\n",
        "if p_value < alpha:\n",
        "    result = \"Reject null hypothesis!\"\n",
        "else:\n",
        "    result = \"Fail to reject null hypothesis!\""
      ],
      "metadata": {
        "id": "knOSGp9BQaeu"
      },
      "execution_count": 9,
      "outputs": []
    },
    {
      "cell_type": "code",
      "source": [
        "print(f\"The Z-Score of this hypothesis is: {z_score}\")\n",
        "print(f\"P-Value: {p_value}\")\n",
        "print(result)"
      ],
      "metadata": {
        "colab": {
          "base_uri": "https://localhost:8080/"
        },
        "id": "DVHJfmgpPvYt",
        "outputId": "e9f213bb-8075-4876-8f57-2390c8719264"
      },
      "execution_count": 10,
      "outputs": [
        {
          "output_type": "stream",
          "name": "stdout",
          "text": [
            "The Z-Score of this hypothesis is: 0.6947684057082572\n",
            "P-Value: 0.48720045098291287\n",
            "Fail to reject null hypothesis!\n"
          ]
        }
      ]
    }
  ]
}